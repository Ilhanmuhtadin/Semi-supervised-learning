{
 "cells": [
  {
   "cell_type": "code",
   "execution_count": 7,
   "id": "4a35d96e",
   "metadata": {},
   "outputs": [
    {
     "data": {
      "text/plain": [
       "0.9733333333333334"
      ]
     },
     "execution_count": 7,
     "metadata": {},
     "output_type": "execute_result"
    }
   ],
   "source": [
    "from sklearn import metrics,datasets,semi_supervised,svm\n",
    "import pandas as pd\n",
    "from sklearn.datasets import load_iris\n",
    "from sklearn.pipeline import Pipeline\n",
    "from sklearn.preprocessing import StandardScaler\n",
    "from sklearn.svm import SVC\n",
    "from sklearn.datasets import load_diabetes\n",
    "from sklearn.model_selection import train_test_split, GridSearchCV\n",
    "from sklearn.svm import SVC\n",
    "from sklearn.metrics import accuracy_score\n",
    "import numpy as np\n",
    "from sklearn.semi_supervised import SelfTrainingClassifier,LabelPropagation\n",
    "\n",
    "\n",
    "# Load the Iris dataset\n",
    "iris = load_iris()\n",
    "X, y = iris.data, iris.target\n",
    "\n",
    "# Split the data into labeled and unlabeled sets\n",
    "X_labeled, X_unlabeled, y_labeled,y_hide = train_test_split(X, y, test_size=0.5, random_state=42)\n",
    "y_unlabeled = np.full(len(X_unlabeled), -1)\n",
    "\n",
    "\n",
    "\n",
    "X_new=np.concatenate([X_labeled,X_unlabeled])\n",
    "y_new=np.concatenate([y_labeled,y_unlabeled])\n",
    "\n",
    "\n",
    "\n",
    "# Define pipeline\n",
    "pipeline = Pipeline([\n",
    "    ('scaler', StandardScaler()),\n",
    "    ('lbl', semi_supervised.LabelPropagation())\n",
    "])\n",
    "\n",
    "# Define parameter grid for SVC\n",
    "param_grid = {'lbl__gamma': [0.1, 0.01, 0.001,10,20,30,25,15]}\n",
    "\n",
    "# Perform grid search\n",
    "grid_search = GridSearchCV(pipeline, param_grid, cv=5)\n",
    "grid_search.fit(X_new, y_new)\n",
    "Y_pred=grid_search.predict(X_unlabeled)\n",
    "metrics.accuracy_score(Y_pred,y_hide)"
   ]
  }
 ],
 "metadata": {
  "kernelspec": {
   "display_name": "Python 3 (ipykernel)",
   "language": "python",
   "name": "python3"
  },
  "language_info": {
   "codemirror_mode": {
    "name": "ipython",
    "version": 3
   },
   "file_extension": ".py",
   "mimetype": "text/x-python",
   "name": "python",
   "nbconvert_exporter": "python",
   "pygments_lexer": "ipython3",
   "version": "3.9.12"
  }
 },
 "nbformat": 4,
 "nbformat_minor": 5
}
